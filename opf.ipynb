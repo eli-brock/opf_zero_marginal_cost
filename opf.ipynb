{
 "cells": [
  {
   "cell_type": "code",
   "execution_count": 1,
   "metadata": {},
   "outputs": [],
   "source": [
    "import numpy as np\n",
    "import cvxpy as cp\n",
    "from scipy.io import loadmat"
   ]
  },
  {
   "attachments": {},
   "cell_type": "markdown",
   "metadata": {},
   "source": [
    "Load $Y_{bus}$ matrix from MATLAB"
   ]
  },
  {
   "cell_type": "code",
   "execution_count": 2,
   "metadata": {},
   "outputs": [],
   "source": [
    "# Note: in per-unit\n",
    "Y = loadmat('Ybus')['Ybus'].todense()"
   ]
  },
  {
   "attachments": {},
   "cell_type": "markdown",
   "metadata": {},
   "source": [
    "Problem parameters"
   ]
  },
  {
   "cell_type": "code",
   "execution_count": 3,
   "metadata": {},
   "outputs": [],
   "source": [
    "# Number of buses\n",
    "N = Y.shape[0]\n",
    "\n",
    "# Susceptance matrix. Recall in DC power flow, G = 0\n",
    "B = np.imag(Y)\n",
    "\n",
    "# System base, in MVA\n",
    "base = 100\n",
    "\n",
    "# The load consumed at each bus\n",
    "p_d = np.array([0, 40, 150, 80, 130])/base\n",
    "\n",
    "# Matrix defining the cost of the generators\n",
    "# The i,j element is the coefficient of the power produced at the ith generator raised to the j-1 power\n",
    "# Copied from PowerWorld\n",
    "C = np.array(\n",
    "    [\n",
    "        [373.5, 10, 0.016],\n",
    "        [403.6, 8, 0.018],\n",
    "        [253.2, 12, 0.018]\n",
    "    ]\n",
    ")\n",
    "\n",
    "# Minimum and maximum generator outputs, taken from PowerWorld\n",
    "p_min = np.array([100, 150, 0])/base\n",
    "p_max = np.array([400, 500, 300])/base\n",
    "\n",
    "# The buses with generators and loads\n",
    "G = [1, 2, 4]\n",
    "L = [2, 3, 4, 5]"
   ]
  },
  {
   "attachments": {},
   "cell_type": "markdown",
   "metadata": {},
   "source": [
    "First, we'll solve the normal supply-side OPF. Re-index the problem such that the generator buses preceed the non-generator buses. Within each block, keep the order the same."
   ]
  },
  {
   "cell_type": "code",
   "execution_count": 4,
   "metadata": {},
   "outputs": [],
   "source": [
    "NG = [n for n in range(1,N+1) if n not in G]\n",
    "idx = np.array(G+NG)-1\n",
    "B = B[idx][:,idx]\n",
    "p_d = p_d[idx]"
   ]
  },
  {
   "attachments": {},
   "cell_type": "markdown",
   "metadata": {},
   "source": [
    "Solve DC OPF. Line flow limits not yet implmented, but they are not binding for this example. Confirm that the total cost is consistent with PowerWorld."
   ]
  },
  {
   "cell_type": "code",
   "execution_count": 5,
   "metadata": {},
   "outputs": [
    {
     "data": {
      "text/plain": [
       "5840.78888888889"
      ]
     },
     "execution_count": 5,
     "metadata": {},
     "output_type": "execute_result"
    }
   ],
   "source": [
    "p_g = cp.Variable(len(G))\n",
    "delta = cp.Variable(N)\n",
    "cp.Problem(\n",
    "    cp.Minimize(cp.vec(C.T)@cp.vec(cp.vstack([(base*p_g)**n for n in range(3)]))),\n",
    "    [\n",
    "        p_g >= p_min,\n",
    "        p_g <= p_max,\n",
    "        cp.hstack([p_g,np.zeros(len(NG))])-p_d == -B@delta,\n",
    "        cp.sum(p_g) == p_d.sum()\n",
    "    ]\n",
    ").solve()"
   ]
  },
  {
   "attachments": {},
   "cell_type": "markdown",
   "metadata": {},
   "source": [
    "Now let's solve a demand-side problem with zero marginal cost, fixed supply, and elastic demand. For this minimal example, we make the follwing assumptions:\n",
    "- Each load submits a demand curve. The system operator accepts the maximum-price bid until the renewable output is met.\n",
    "- Each load can consume as much power as desired.\n",
    "- For each load, elasticity is constant. That is, the marginal benefit curve for load $i$ is given by $MB_i(P)=K_iP^{e_i}$, where $-1<e_i<0$ is the elasticity. Note that this formulation insures that marginal benefit is always positive.\n",
    "\n",
    "For simplicity, suppose each generator supplies its optimal output from the supply-side problem."
   ]
  },
  {
   "cell_type": "code",
   "execution_count": 6,
   "metadata": {},
   "outputs": [],
   "source": [
    "p_g = np.hstack([p_g.value, np.zeros(len(NG))])"
   ]
  },
  {
   "attachments": {},
   "cell_type": "markdown",
   "metadata": {},
   "source": [
    "Again, reindex the system, this time with the load buses preceding the non-load buses"
   ]
  },
  {
   "cell_type": "code",
   "execution_count": 7,
   "metadata": {},
   "outputs": [],
   "source": [
    "B = B[idx][:,idx]\n",
    "p_d = p_d[idx]\n",
    "NL = [n for n in range(1,N+1) if n not in L]\n",
    "idx = np.array(L+NL)-1\n",
    "B = B[idx][:,idx]\n",
    "p_g = p_g[idx]\n",
    "p_d = p_d[idx]"
   ]
  },
  {
   "attachments": {},
   "cell_type": "markdown",
   "metadata": {},
   "source": [
    "For simplicity, we choose $e_1=\\dots=e_L=-0.2$. Furthermore, choose $K_i$ by taking the marginal benefit vector to be $MB(P_d^*)=\\lambda\\mathbf{1}$ where $P_d^*$ is the load vector given by PowerWorld and $\\lambda$ is the system marginal price at optimality (copied from PowerWorld)."
   ]
  },
  {
   "cell_type": "code",
   "execution_count": 8,
   "metadata": {},
   "outputs": [],
   "source": [
    "e = -0.2\n",
    "price = 13.68\n",
    "K = base*p_d[:len(L)]**e/price"
   ]
  },
  {
   "attachments": {},
   "cell_type": "markdown",
   "metadata": {},
   "source": [
    "Solve!"
   ]
  },
  {
   "cell_type": "code",
   "execution_count": 9,
   "metadata": {},
   "outputs": [
    {
     "data": {
      "text/plain": [
       "1226.1022239383628"
      ]
     },
     "execution_count": 9,
     "metadata": {},
     "output_type": "execute_result"
    }
   ],
   "source": [
    "p_d = cp.Variable(len(L))\n",
    "delta = cp.Variable(N)\n",
    "cp.Problem(\n",
    "    cp.Maximize(cp.sum(cp.multiply(K,(base*p_d)**(e+1)))),\n",
    "    [\n",
    "        p_d >= 0,\n",
    "        p_g-cp.hstack([p_d,np.zeros(len(NL))]) == -B@delta,\n",
    "        cp.sum(p_d) == p_g.sum()\n",
    "    ]\n",
    ").solve()"
   ]
  },
  {
   "attachments": {},
   "cell_type": "markdown",
   "metadata": {},
   "source": [
    "The total benefit (above) and the consumption vector (below) are consistent in magnitude with the supply-side problem."
   ]
  },
  {
   "cell_type": "code",
   "execution_count": 10,
   "metadata": {},
   "outputs": [
    {
     "data": {
      "text/plain": [
       "array([192.81677209,  51.42545795,  96.42086215,  59.33690782])"
      ]
     },
     "execution_count": 10,
     "metadata": {},
     "output_type": "execute_result"
    }
   ],
   "source": [
    "p_d.value*100"
   ]
  }
 ],
 "metadata": {
  "kernelspec": {
   "display_name": "Python 3",
   "language": "python",
   "name": "python3"
  },
  "language_info": {
   "codemirror_mode": {
    "name": "ipython",
    "version": 3
   },
   "file_extension": ".py",
   "mimetype": "text/x-python",
   "name": "python",
   "nbconvert_exporter": "python",
   "pygments_lexer": "ipython3",
   "version": "3.9.13"
  },
  "orig_nbformat": 4
 },
 "nbformat": 4,
 "nbformat_minor": 2
}
