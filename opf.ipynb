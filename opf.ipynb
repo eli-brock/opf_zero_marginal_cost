{
 "cells": [
  {
   "cell_type": "code",
   "execution_count": 12,
   "metadata": {},
   "outputs": [],
   "source": [
    "import numpy as np\n",
    "import cvxpy as cp\n",
    "from scipy.io import loadmat\n",
    "import matplotlib.pyplot as plt\n",
    "import pandas as pd"
   ]
  },
  {
   "cell_type": "markdown",
   "metadata": {},
   "source": [
    "Load $Y_{bus}$ matrix from MATLAB"
   ]
  },
  {
   "cell_type": "code",
   "execution_count": 13,
   "metadata": {},
   "outputs": [],
   "source": [
    "# Note: in per-unit\n",
    "Y = loadmat('Ybus')['Ybus'].todense()"
   ]
  },
  {
   "cell_type": "markdown",
   "metadata": {},
   "source": [
    "Problem parameters, modeled after the network in Example 11_9 in PowerWorld Simulator 18 (Glover, Sarma & Overbye Edition) [Fourth Edition Sample Cases](https://www.powerworld.com/simulator-18-glover-sarma-overbye-edition-download)"
   ]
  },
  {
   "cell_type": "code",
   "execution_count": 14,
   "metadata": {},
   "outputs": [],
   "source": [
    "# Number of buses\n",
    "N = Y.shape[0]\n",
    "\n",
    "# Susceptance matrix. Recall in DC power flow, G = 0 and shunt admittances are zero.\n",
    "B = np.array(np.imag(Y))\n",
    "B = B - np.diag(np.diag(B))\n",
    "B = B - np.diag(np.sum(B, axis=0))\n",
    "\n",
    "# System base, in MVA\n",
    "base = 100\n",
    "\n",
    "# The load consumed at each bus\n",
    "p_d = np.array([40, 150, 80, 130])/base\n",
    "\n",
    "# Matrix defining the cost of the generators\n",
    "# The i, j element is the coefficient of the power produced at the ith generator raised to the j-1 power\n",
    "# Copied from PowerWorld\n",
    "C = np.array(\n",
    "    [\n",
    "        [373.5, 10, 0.016],\n",
    "        [403.6, 8, 0.018],\n",
    "        [253.2, 12, 0.018]\n",
    "    ]\n",
    ")\n",
    "\n",
    "# Line constraints. The i, j element is the MVA limit of the line from bus i to bus j\n",
    "P_line = np.array(\n",
    "    [\n",
    "        [0, 150, 150, 0, 0],\n",
    "        [0, 0, 120, 100, 200],\n",
    "        [0, 0, 0, 222, 0],\n",
    "        [0, 0, 0, 0, 60],\n",
    "        [0, 0, 0, 0, 0]\n",
    "    ]\n",
    ")\n",
    "P_line = (P_line+P_line.T)/base\n",
    "\n",
    "# Minimum and maximum generator outputs, taken from PowerWorld\n",
    "p_min = np.array([100, 150, 0])/base\n",
    "p_max = np.array([400, 500, 300])/base\n",
    "\n",
    "# The buses with generators and loads\n",
    "G = np.array([1, 2, 4])-1\n",
    "L = np.array([2, 3, 4, 5])-1\n",
    "\n",
    "# Transformation matrices. These define the change-of-variables from the generator/load spaces to the bus space.\n",
    "AG = np.zeros((N,len(G)))\n",
    "AG[G,:] = np.eye(len(G))\n",
    "AL = np.zeros((N,len(L)))\n",
    "AL[L,:] = np.eye(len(L))"
   ]
  },
  {
   "cell_type": "markdown",
   "metadata": {},
   "source": [
    "First, we solve conventional supply-side OPF. Confirm that the total cost is consistent with PowerWorld."
   ]
  },
  {
   "cell_type": "code",
   "execution_count": 15,
   "metadata": {},
   "outputs": [
    {
     "data": {
      "text/plain": [
       "5840.788888888888"
      ]
     },
     "execution_count": 15,
     "metadata": {},
     "output_type": "execute_result"
    }
   ],
   "source": [
    "# Real power produced by each generator\n",
    "p_g = cp.Variable(len(G))\n",
    "\n",
    "# Voltage angle at each bus\n",
    "delta = cp.Variable(N)\n",
    "\n",
    "# Set constraints (generator min/max, DC power flow, line MVA limits)\n",
    "constraints = [\n",
    "    p_g >= p_min,\n",
    "    p_g <= p_max,\n",
    "    AG@p_g-AL@p_d == -B@delta,\n",
    "    cp.multiply(B, delta[:,np.newaxis]-delta[np.newaxis,:]) <= P_line\n",
    "]\n",
    "\n",
    "# Solve DC OPF\n",
    "cp.Problem(\n",
    "    cp.Minimize(cp.vec(C.T)@cp.vec(cp.vstack([(base*p_g)**n for n in range(3)]))),\n",
    "    constraints\n",
    ").solve(max_iter=30000)"
   ]
  },
  {
   "cell_type": "code",
   "execution_count": 16,
   "metadata": {},
   "outputs": [],
   "source": [
    "# Check that matches PowerWorld's total hourly cost for Example 11_9 when solved with DC OPF\n",
    "assert(round(_,1)==5840.8)"
   ]
  },
  {
   "cell_type": "markdown",
   "metadata": {},
   "source": [
    "Now let's solve a **demand-side** problem with zero marginal cost, fixed supply, and elastic demand. For this minimal example, we make the follwing assumptions:\n",
    "- Each load submits a demand curve. The system operator dispatches to maximize total utlity $U(P)$.\n",
    "- For each load, elasticity is constant. That is, the marginal utility for load $i$ is given by $\\frac{dU_i}{dP_i}=K_iP_i^{\\frac{1}{e_i}}$, where $e_i<-1$ is the elasticity. Note that this formulation insures that marginal benefit is always positive.\n",
    "- There is no upper limit on consumption."
   ]
  },
  {
   "cell_type": "markdown",
   "metadata": {},
   "source": [
    "This function accepts:\n",
    "- An elasticity $e$ (constant across loads for now)\n",
    "- A nominal operating point for load $(\\hat{P}_d,\\lambda)$ such that $\\nabla_{P_d}U(\\hat{P}_d)=\\mathbf{1}\\lambda$\n",
    "- A vector of nominal generator outputs $P_g$\n",
    "- A scaling factor for generator outputs\n",
    "\n",
    "It returns the price of electricity. For now, all LMPs are equal because our lines are unconstrained."
   ]
  },
  {
   "cell_type": "code",
   "execution_count": 17,
   "metadata": {},
   "outputs": [],
   "source": [
    "def sim(e, price, p_0, p_g, factor):\n",
    "\n",
    "    K = price/(p_0)**(1/e)\n",
    "\n",
    "    p_d = cp.Variable(len(L))\n",
    "    delta = cp.Variable(N)\n",
    "    constraints = [\n",
    "        factor*AG@p_g-AL@p_d == -B@delta,\n",
    "        cp.multiply(B, delta[:,np.newaxis]-delta[np.newaxis,:]) <= P_line\n",
    "    ]\n",
    "    cp.Problem(\n",
    "        cp.Maximize(e/(1+e)*cp.sum(cp.multiply(K,(p_d)**(1/e+1)))),\n",
    "        constraints\n",
    "    ).solve()\n",
    "\n",
    "    return pd.Series(\n",
    "        {\n",
    "            'e': e,\n",
    "            'price': price,\n",
    "            'p_0': p_0,\n",
    "            'p_g': p_g,\n",
    "            'factor': factor,\n",
    "            'LMP': -constraints[0].dual_value,\n",
    "            'congestion': constraints[1].dual_value\n",
    "        }\n",
    "    )"
   ]
  },
  {
   "cell_type": "markdown",
   "metadata": {},
   "source": [
    "Let's do a sweep across generator factors for a couple different elasticities. We'll choose $\\hat{P}_d$, $\\lambda$, and $P_g$ using the parameters and solution to the supply-side problem."
   ]
  },
  {
   "cell_type": "code",
   "execution_count": 18,
   "metadata": {},
   "outputs": [],
   "source": [
    "elasticities = [-0.7, -0.3]\n",
    "factors = np.linspace(0.6, 1.9)\n",
    "results = pd.DataFrame(\n",
    "    [\n",
    "        sim(e, -constraints[2].dual_value.mean()/base, p_d, p_g.value, factor) \n",
    "        for e in elasticities\n",
    "        for factor in factors\n",
    "    ]\n",
    ")"
   ]
  },
  {
   "cell_type": "markdown",
   "metadata": {},
   "source": [
    "Plot the results. Each color is a different elasticity, with one line per bus representing that bus' LMP."
   ]
  },
  {
   "cell_type": "code",
   "execution_count": 19,
   "metadata": {},
   "outputs": [
    {
     "name": "stderr",
     "output_type": "stream",
     "text": [
      "C:\\Users\\elean\\AppData\\Local\\Temp\\ipykernel_18100\\2245773093.py:8: UserWarning: Matplotlib is currently using module://matplotlib_inline.backend_inline, which is a non-GUI backend, so cannot show the figure.\n",
      "  fig.show()\n"
     ]
    },
    {
     "data": {
      "image/png": "[encoded data removed]",
      "text/plain": [
       "<Figure size 640x480 with 1 Axes>"
      ]
     },
     "metadata": {},
     "output_type": "display_data"
    }
   ],
   "source": [
    "fig, ax = plt.subplots()\n",
    "colors = dict(zip(elasticities, ['blue', 'red']))\n",
    "results.set_index('factor').groupby('e').apply(lambda df: df.LMP.apply(pd.Series).plot(ax=ax,color=colors[df.name]))\n",
    "ax.grid()\n",
    "ax.set_ylabel('price')\n",
    "[line.set_label(elasticities[i//5] if line.get_label() == '0' else '_nolegend_') for i, line in enumerate(ax.lines)]\n",
    "ax.legend(title='elasticity')\n",
    "fig.show()"
   ]
  },
  {
   "cell_type": "code",
   "execution_count": null,
   "metadata": {},
   "outputs": [],
   "source": []
  }
 ],
 "metadata": {
  "kernelspec": {
   "display_name": "Python 3 (ipykernel)",
   "language": "python",
   "name": "python3"
  },
  "language_info": {
   "codemirror_mode": {
    "name": "ipython",
    "version": 3
   },
   "file_extension": ".py",
   "mimetype": "text/x-python",
   "name": "python",
   "nbconvert_exporter": "python",
   "pygments_lexer": "ipython3",
   "version": "3.9.13"
  }
 },
 "nbformat": 4,
 "nbformat_minor": 2
}
